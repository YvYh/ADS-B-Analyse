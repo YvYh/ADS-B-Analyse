{
 "cells": [
  {
   "cell_type": "code",
   "execution_count": 2,
   "metadata": {},
   "outputs": [],
   "source": [
    "import csv\n",
    "import pandas as pd\n",
    "import numpy as np"
   ]
  },
  {
   "cell_type": "code",
   "execution_count": 8,
   "metadata": {},
   "outputs": [
    {
     "data": {
      "text/plain": [
       "[]"
      ]
     },
     "execution_count": 8,
     "metadata": {},
     "output_type": "execute_result"
    }
   ],
   "source": [
    "file = open('../log.txt', 'r')\n",
    "line = file.readlines(1500)\n",
    "title = line[-2:-1]\n",
    "col = [x.strip(' ') for x in [i.split('|') for i in line[-2:-1]][0]]\n",
    "col = col[1:-1]\n",
    "data_list=[]\n",
    "line = file.readline()\n",
    "count=0\n",
    "while ((count<2000) & (line != title[0])):\n",
    "#while(line != []):\n",
    "    #line = file.readline()\n",
    "    line = [x.strip(' ') for x in line.split('|')][1:-1]\n",
    "    data_list.append(line)\n",
    "    count = count + 1\n",
    "    #print(count)\n",
    "    line = file.readline()\n",
    "#line = file.readline()\n",
    "\n",
    "'''\n",
    "data = pd.DataFrame(data_list,columns=col)\n",
    "data = data.iloc[:-6,0:]\n",
    "\n",
    "for name in ['lat', 'lon','velocity','heading','vertrate','baroaltitude','geoaltitude','lastposupdate','lastcontact']:\n",
    "    data[name] = pd.to_numeric(data[name], errors='coerce')\n",
    "'''\n",
    "'''\n",
    "if (line==title[0]):\n",
    "    print('Yes')\n",
    "else:\n",
    "    print(line)\n",
    "    print(title[0])\n",
    "'''\n",
    "\n",
    "line = file.readline()\n",
    "line = [x.strip(' ') for x in line.split('|')][1:-1]\n",
    "file.close()\n",
    "line "
   ]
  },
  {
   "cell_type": "code",
   "execution_count": 4,
   "metadata": {},
   "outputs": [
    {
     "data": {
      "text/plain": [
       "<function TextIOWrapper.close()>"
      ]
     },
     "execution_count": 4,
     "metadata": {},
     "output_type": "execute_result"
    }
   ],
   "source": [
    "file = open('../log.txt', 'r')\n",
    "line = file.readlines(1500)\n",
    "title = line[-2:-1]\n",
    "col = [x.strip(' ') for x in [i.split('|') for i in line[-2:-1]][0]]\n",
    "col = col[1:-1]\n",
    "line = file.readline()\n",
    "line = [x.strip(' ') for x in line.split('|')][1:-1]\n",
    "file.close"
   ]
  },
  {
   "cell_type": "code",
   "execution_count": 31,
   "metadata": {},
   "outputs": [
    {
     "data": {
      "text/plain": [
       "'24.83578491210938'"
      ]
     },
     "execution_count": 31,
     "metadata": {},
     "output_type": "execute_result"
    }
   ],
   "source": [
    "file = open('../log.txt', 'r')\n",
    "line = file.readlines(1500)\n",
    "title = line[-2:-1]\n",
    "col = [x.strip(' ') for x in [i.split('|') for i in line[-2:-1]][0]]\n",
    "col = col[1:-1]\n",
    "line = file.readline()\n",
    "line = [x.strip(' ') for x in line.split('|')][1:-1]\n",
    "data_list=[]\n",
    "callsign = line[7]\n",
    "data = pd.DataFrame(columns=col)\n",
    "while ((line != []) & (line[7] == callsign)):\n",
    "    data_list.append(line)\n",
    "    sub_data = pd.DataFrame(data_list,columns=col)\n",
    "    #print(sub_data)\n",
    "    data = data.append(sub_data, ignore_index=True)\n",
    "    data_list = []\n",
    "    line = file.readline()\n",
    "    line = [x.strip(' ') for x in line.split('|')][1:-1]\n",
    "\n",
    "if (line==[]):\n",
    "    for i in range (4):\n",
    "        line = file.readline()\n",
    "file.close()\n",
    "data=data.dropna()\n",
    "data.iloc[-1]['lat']"
   ]
  },
  {
   "cell_type": "code",
   "execution_count": 4,
   "metadata": {},
   "outputs": [
    {
     "data": {
      "text/plain": [
       "str"
      ]
     },
     "execution_count": 4,
     "metadata": {},
     "output_type": "execute_result"
    }
   ],
   "source": [
    "c = ('N{}'.format(5))\n",
    "type(c)"
   ]
  },
  {
   "cell_type": "code",
   "execution_count": 9,
   "metadata": {},
   "outputs": [
    {
     "data": {
      "text/plain": [
       "[]"
      ]
     },
     "execution_count": 9,
     "metadata": {},
     "output_type": "execute_result"
    }
   ],
   "source": [
    "line = \"\"\n",
    "line = [x.strip(' ') for x in line.split('|')][1:-1]\n",
    "line"
   ]
  },
  {
   "cell_type": "code",
   "execution_count": 9,
   "metadata": {},
   "outputs": [
    {
     "data": {
      "text/plain": [
       "0"
      ]
     },
     "execution_count": 9,
     "metadata": {},
     "output_type": "execute_result"
    }
   ],
   "source": [
    "line = [['1520206451', '7800ac', 'NULL', 'NULL', '193.8798774346463', '52.00501140089782', '5.20192', 'NULL', 'false', 'false', 'false', 'NULL', '3329.94', 'NULL', 'NULL', '1520206450.801', '1520204400']]\n",
    "data=pd.DataFrame(columns=col)\n",
    "len(data)"
   ]
  },
  {
   "cell_type": "code",
   "execution_count": 42,
   "metadata": {},
   "outputs": [
    {
     "data": {
      "text/plain": [
       "17"
      ]
     },
     "execution_count": 42,
     "metadata": {},
     "output_type": "execute_result"
    }
   ],
   "source": [
    "len(line)"
   ]
  },
  {
   "cell_type": "code",
   "execution_count": null,
   "metadata": {},
   "outputs": [],
   "source": [
    "file = open('../log.txt', 'r')\n",
    "line = file.readlines(1500)\n",
    "title = line[-2:-1]\n",
    "col = [x.strip(' ') for x in [i.split('|') for i in line[-2:-1]][0]]\n",
    "col = col[1:-1]\n",
    "line = file.readline()\n",
    "line = [x.strip(' ') for x in line.split('|')][1:-1]\n",
    "count_null = 0\n",
    "\n",
    "while line != \"\":\n",
    "    data_list=[]\n",
    "    callsign = line[7]\n",
    "    data = pd.DataFrame(columns=col)\n",
    "    while (line[7] == callsign):\n",
    "        data_list.append(line)\n",
    "        line = file.readline()\n",
    "        line = [x.strip(' ') for x in line.split('|')][1:-1]\n",
    "        if (line==[]):\n",
    "            for i in range (4):\n",
    "                line = file.readline()\n",
    "                line = [x.strip(' ') for x in line.split('|')][1:-1]\n",
    "            print('Change table')\n",
    "\n",
    "    data = pd.DataFrame(data_list,columns=col)\n",
    "    print(callsign)\n",
    "    \n",
    "    \n",
    "   \n",
    "    \n",
    "file.close()"
   ]
  },
  {
   "cell_type": "code",
   "execution_count": 32,
   "metadata": {},
   "outputs": [
    {
     "ename": "SyntaxError",
     "evalue": "invalid character in identifier (<ipython-input-32-7b18ceeab341>, line 1)",
     "output_type": "error",
     "traceback": [
      "\u001b[1;36m  File \u001b[1;32m\"<ipython-input-32-7b18ceeab341>\"\u001b[1;36m, line \u001b[1;32m1\u001b[0m\n\u001b[1;33m    def write_coor_file(coor，callsign):\u001b[0m\n\u001b[1;37m                                    ^\u001b[0m\n\u001b[1;31mSyntaxError\u001b[0m\u001b[1;31m:\u001b[0m invalid character in identifier\n"
     ]
    }
   ],
   "source": [
    "count_null=0\n",
    "def write_coor_file(coor，callsign):\n",
    "    if (callsign==\"NULL\"):\n",
    "        callsign = ('{}-N{}'.format(line[7], count_null))\n",
    "        count_null = count_null+1\n",
    "    \n",
    "    coor.to_csv('../coordinate/{}.csv'.format(callsign), index=False)\n",
    "    print('{} fine'.format(callsign))"
   ]
  },
  {
   "cell_type": "code",
   "execution_count": 34,
   "metadata": {},
   "outputs": [
    {
     "data": {
      "text/plain": [
       "[[0],\n",
       " [0],\n",
       " [0],\n",
       " [0],\n",
       " [0],\n",
       " [0],\n",
       " [0],\n",
       " [0],\n",
       " [0],\n",
       " [0],\n",
       " [0],\n",
       " [0],\n",
       " [0],\n",
       " [0],\n",
       " [0],\n",
       " [0],\n",
       " [0]]"
      ]
     },
     "execution_count": 34,
     "metadata": {},
     "output_type": "execute_result"
    }
   ],
   "source": [
    "init_list=[[0] for i in range(17)]\n",
    "init_list."
   ]
  },
  {
   "cell_type": "code",
   "execution_count": null,
   "metadata": {},
   "outputs": [],
   "source": []
  }
 ],
 "metadata": {
  "kernelspec": {
   "display_name": "Python 3",
   "language": "python",
   "name": "python3"
  },
  "language_info": {
   "codemirror_mode": {
    "name": "ipython",
    "version": 3
   },
   "file_extension": ".py",
   "mimetype": "text/x-python",
   "name": "python",
   "nbconvert_exporter": "python",
   "pygments_lexer": "ipython3",
   "version": "3.7.0"
  }
 },
 "nbformat": 4,
 "nbformat_minor": 2
}
